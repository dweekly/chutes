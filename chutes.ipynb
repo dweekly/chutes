{
 "cells": [
  {
   "cell_type": "markdown",
   "metadata": {},
   "source": [
    "# Chutes & Ladders\n",
    "\n",
    "This is a fun evening exploration to teach myself how to code\n",
    "Python by asking the question \"What does the distribution of\n",
    "games of Chutes & Ladders look like by number of spins to win?\"\n",
    "\n",
    "If you're new to Jupyter or Python you might find this interesting.\n",
    "\n",
    "- David E. Weekly <david@weekly.org>"
   ]
  },
  {
   "cell_type": "code",
   "execution_count": 15,
   "metadata": {},
   "outputs": [
    {
     "name": "stdout",
     "output_type": "stream",
     "text": [
      "Playing games...\n",
      "10,000 games completed.\n"
     ]
    }
   ],
   "source": [
    "# We'll be lazy and code both chutes and ladders as \"portals\",\n",
    "# first specifying the square FROM which the portal will go and\n",
    "# then the square TO which the portal will take you. This allows\n",
    "# both forward and backward movement. This set of coded portals\n",
    "# maps the Chutes & Ladders game.\n",
    "\n",
    "portals = (\n",
    "        (1,38),\n",
    "        (4,14),\n",
    "        (9,31),\n",
    "        (16,6),\n",
    "        (21,42),\n",
    "        (28,84),\n",
    "        (36,44),\n",
    "        (47,26),\n",
    "        (49,11),\n",
    "        (56,53),\n",
    "        (51,67),\n",
    "        (62,19),\n",
    "        (64,60),\n",
    "        (71,91),\n",
    "        (80,100),\n",
    "        (87,24),\n",
    "        (93,73),\n",
    "        (96,75),\n",
    "        (98,78),\n",
    "    )\n",
    "\n",
    "# Very simple linear lookup to see if the given square has a\n",
    "# portal on it and if so to where. Returns False if no portal.\n",
    "def portalToWhere(fromSquare):\n",
    "    for p in portals:\n",
    "        if(p[0] == fromSquare):\n",
    "            return p[1]\n",
    "    return False\n",
    "\n",
    "# Plays a game of Chutes & Ladders, returns # spins to win\n",
    "# If printGame is true, will print details of the game.\n",
    "import random\n",
    "def playGame(printGame):\n",
    "    pos = 0\n",
    "    spins = 0\n",
    "    while (True):\n",
    "        spin = random.randint(1,6)\n",
    "        spins = spins + 1\n",
    "        if(printGame): print (\"you spun a \", spin)\n",
    "        if(pos + spin > 100):\n",
    "            if(printGame): print (\"oh no,  you can't go past 100\")\n",
    "        else:\n",
    "            pos += spin\n",
    "            if(printGame): print (\"after roll you landed on \", pos)\n",
    "        portalDest = portalToWhere(pos)\n",
    "        if(portalDest):\n",
    "            if(portalDest<pos):\n",
    "                if(printGame): print(\"oh no, a chute to\",portalDest)\n",
    "            if(portalDest>pos):\n",
    "                if(printGame): print(\"oh yay, a ladder to\",portalDest)\n",
    "            pos=portalDest\n",
    "        if(pos == 100):\n",
    "            break\n",
    "    if(printGame): print (\"you won in \",spins,\"spins!\")\n",
    "    return spins\n",
    "\n",
    "# Now we're going to play a whole bunch of games to get a distribution.\n",
    "print(\"Playing games...\")\n",
    "g = []\n",
    "for game in range(10000):\n",
    "    g.append(playGame(False))\n",
    "print(\"10,000 games completed.\")"
   ]
  },
  {
   "cell_type": "code",
   "execution_count": 19,
   "metadata": {},
   "outputs": [
    {
     "name": "stdout",
     "output_type": "stream",
     "text": [
      "Fastest game is in 7 spins\n",
      "Slowest game is in 244 spins\n"
     ]
    }
   ],
   "source": [
    "print \"Fastest game is in\",min(g),\"spins.\"\n",
    "print \"Slowest game is in\",max(g),\"spins.\""
   ]
  },
  {
   "cell_type": "code",
   "execution_count": 14,
   "metadata": {},
   "outputs": [
    {
     "data": {
      "text/plain": [
       "<matplotlib.axes._subplots.AxesSubplot at 0x1162541d0>"
      ]
     },
     "execution_count": 14,
     "metadata": {},
     "output_type": "execute_result"
    },
    {
     "data": {
      "image/png": "[encoded data removed]",
      "text/plain": [
       "<matplotlib.figure.Figure at 0x1112359d0>"
      ]
     },
     "metadata": {},
     "output_type": "display_data"
    }
   ],
   "source": [
    "%matplotlib inline\n",
    "import numpy as np\n",
    "import pandas as pd\n",
    "from scipy import stats, integrate\n",
    "import matplotlib.pyplot as plt\n",
    "import seaborn as sns\n",
    "\n",
    "sns.distplot(g)"
   ]
  },
  {
   "cell_type": "code",
   "execution_count": null,
   "metadata": {
    "collapsed": true
   },
   "outputs": [],
   "source": []
  }
 ],
 "metadata": {
  "kernelspec": {
   "display_name": "Python 2",
   "language": "python",
   "name": "python2"
  },
  "language_info": {
   "codemirror_mode": {
    "name": "ipython",
    "version": 2
   },
   "file_extension": ".py",
   "mimetype": "text/x-python",
   "name": "python",
   "nbconvert_exporter": "python",
   "pygments_lexer": "ipython2",
   "version": "2.7.14"
  }
 },
 "nbformat": 4,
 "nbformat_minor": 2
}
