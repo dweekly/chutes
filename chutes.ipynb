{
 "cells": [
  {
   "cell_type": "markdown",
   "metadata": {},
   "source": [
    "# Chutes & Ladders\n",
    "\n",
    "This is a fun evening exploration to teach myself how to code\n",
    "Python by asking the question \"What does the distribution of\n",
    "games of Chutes & Ladders look like by number of spins to win?\"\n",
    "\n",
    "If you're new to Jupyter or Python you might find this interesting.\n",
    "\n",
    "There's quite a long tail distribution - if you get very unlucky,\n",
    "the game might last well over 200 spins, but if you're super lucky\n",
    "you could get it in 7. :)\n",
    "\n",
    "- David E. Weekly <david@weekly.org>"
   ]
  },
  {
   "cell_type": "code",
   "execution_count": 11,
   "metadata": {},
   "outputs": [
    {
     "name": "stdout",
     "output_type": "stream",
     "text": [
      "Playing games...\n",
      "100,000 games completed.\n"
     ]
    }
   ],
   "source": [
    "# We'll be lazy and code both chutes and ladders as \"portals\",\n",
    "# first specifying the square FROM which the portal will go and\n",
    "# then the square TO which the portal will take you. This allows\n",
    "# both forward and backward movement. This set of coded portals\n",
    "# maps the Chutes & Ladders game.\n",
    "\n",
    "portals = {\n",
    "        1  : 38,\n",
    "        4  : 14,\n",
    "        9  : 31,\n",
    "        16 : 6,\n",
    "        21 : 42,\n",
    "        28 : 84,\n",
    "        36 : 44,\n",
    "        47 : 26,\n",
    "        49 : 11,\n",
    "        56 : 53,\n",
    "        51 : 67,\n",
    "        62 : 19,\n",
    "        64 : 60,\n",
    "        71 : 91,\n",
    "        80 : 100,\n",
    "        87 : 24,\n",
    "        93 : 73,\n",
    "        96 : 75,\n",
    "        98 : 78,\n",
    "}\n",
    "\n",
    "# Check if current square has a portal; return destination\n",
    "# square if it does, False otherwise.\n",
    "def portalToWhere(fromSquare):\n",
    "    if fromSquare in portals: return portals[fromSquare]\n",
    "    return False\n",
    "\n",
    "# Plays a game of Chutes & Ladders, returns # spins to win\n",
    "# If printGame is true, will print details of the game.\n",
    "import random\n",
    "def playGame(printGame):\n",
    "    pos = 0\n",
    "    spins = 0\n",
    "    while True:\n",
    "        spin = random.randint(1,6)\n",
    "        spins = spins + 1\n",
    "        if printGame: print (\"you spun a \", spin)\n",
    "        if (pos + spin > 100):\n",
    "            if printGame: print (\"oh no,  you can't go past 100\")\n",
    "        else:\n",
    "            pos += spin\n",
    "            if printGame: print (\"after roll you landed on \", pos)\n",
    "        portalDest = portalToWhere(pos)\n",
    "        if(portalDest):\n",
    "            if(portalDest < pos):\n",
    "                if printGame: print(\"oh no, a chute to\",portalDest)\n",
    "            if(portalDest > pos):\n",
    "                if printGame: print(\"oh yay, a ladder to\",portalDest)\n",
    "            pos = portalDest\n",
    "        if(pos == 100):\n",
    "            break\n",
    "    if printGame: print (\"you won in \",spins,\"spins!\")\n",
    "    return spins\n",
    "\n",
    "# Now we're going to play a whole bunch of games to get a distribution.\n",
    "print(\"Playing games...\")\n",
    "gameOutcomes = []\n",
    "for game in range(100000):\n",
    "    gameOutcomes.append(playGame(False))\n",
    "print(\"100,000 games completed.\")"
   ]
  },
  {
   "cell_type": "code",
   "execution_count": 12,
   "metadata": {},
   "outputs": [
    {
     "name": "stdout",
     "output_type": "stream",
     "text": [
      "Fastest game is in 7 spins.\n",
      "Slowest game is in 278 spins.\n"
     ]
    }
   ],
   "source": [
    "print(\"Fastest game is in\",min(gameOutcomes),\"spins.\")\n",
    "print(\"Slowest game is in\",max(gameOutcomes),\"spins.\")"
   ]
  },
  {
   "cell_type": "code",
   "execution_count": 22,
   "metadata": {
    "scrolled": false
   },
   "outputs": [
    {
     "name": "stdout",
     "output_type": "stream",
     "text": [
      "Median game takes 32 spins.\n",
      "95th %ile game takes 89 spins.\n"
     ]
    },
    {
     "data": {
      "text/plain": [
       "<matplotlib.axes._subplots.AxesSubplot at 0x1a15818b00>"
      ]
     },
     "execution_count": 22,
     "metadata": {},
     "output_type": "execute_result"
    },
    {
     "data": {
      "image/png": "[encoded data removed]",
      "text/plain": [
       "<matplotlib.figure.Figure at 0x1a15880470>"
      ]
     },
     "metadata": {},
     "output_type": "display_data"
    }
   ],
   "source": [
    "%matplotlib inline\n",
    "import numpy as np\n",
    "import pandas as pd\n",
    "from scipy import stats, integrate\n",
    "import matplotlib.pyplot as plt\n",
    "import seaborn as sns\n",
    "\n",
    "print(\"Median game takes\",  int(np.median(gameOutcomes)),          \"spins.\")\n",
    "print(\"95th %ile game takes\", int(np.percentile(gameOutcomes, 95)),\"spins.\")\n",
    "sns.distplot(gameOutcomes, axlabel=\"spins to win\", hist_kws={\"histtype\":\"step\", \"alpha\":1, \"color\":\"g\" })"
   ]
  }
 ],
 "metadata": {
  "kernelspec": {
   "display_name": "Python 3",
   "language": "python",
   "name": "python3"
  },
  "language_info": {
   "codemirror_mode": {
    "name": "ipython",
    "version": 3
   },
   "file_extension": ".py",
   "mimetype": "text/x-python",
   "name": "python",
   "nbconvert_exporter": "python",
   "pygments_lexer": "ipython3",
   "version": "3.6.3"
  }
 },
 "nbformat": 4,
 "nbformat_minor": 2
}
